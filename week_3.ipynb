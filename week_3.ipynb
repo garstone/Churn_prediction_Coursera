{
 "cells": [
  {
   "cell_type": "markdown",
   "metadata": {},
   "source": [
    "Обучите 3 разные baseline-модели на полученных наборах данных и оцените их качество. На прошлой неделе вы выбрали методику оценки качества моделей на основе кросс-валидации, а также основную и вспомогательные метрики. Оцените с их помощью получившуюся модель. Обратите внимание, что под разными моделями понимаются именно разные алгоритмы классификации. Например, 2 модели, реализующие метод k ближайших соседей с разными k, будут считаться одним baseline-решением (хотя и с разными параметрами). Напоминаем, что отложенная выборка (hold-out dataset) не должна использоваться для построения и оценки baseline-моделей!"
   ]
  },
  {
   "cell_type": "code",
   "execution_count": 2,
   "metadata": {},
   "outputs": [],
   "source": [
    "import pandas as pd\n",
    "import numpy as np\n",
    "from sklearn import linear_model\n",
    "from sklearn.model_selection import cross_val_score, cross_validate\n",
    "from sklearn.model_selection import train_test_split\n",
    "from sklearn.preprocessing import OneHotEncoder, OrdinalEncoder, StandardScaler\n",
    "from sklearn import metrics\n",
    "import matplotlib.pyplot as plt\n",
    "%matplotlib inline\n",
    "import seaborn as sns"
   ]
  },
  {
   "cell_type": "code",
   "execution_count": 3,
   "metadata": {
    "scrolled": true
   },
   "outputs": [
    {
     "data": {
      "text/html": [
       "<div>\n",
       "<style scoped>\n",
       "    .dataframe tbody tr th:only-of-type {\n",
       "        vertical-align: middle;\n",
       "    }\n",
       "\n",
       "    .dataframe tbody tr th {\n",
       "        vertical-align: top;\n",
       "    }\n",
       "\n",
       "    .dataframe thead th {\n",
       "        text-align: right;\n",
       "    }\n",
       "</style>\n",
       "<table border=\"1\" class=\"dataframe\">\n",
       "  <thead>\n",
       "    <tr style=\"text-align: right;\">\n",
       "      <th></th>\n",
       "      <th>Var6</th>\n",
       "      <th>Var7</th>\n",
       "      <th>Var13</th>\n",
       "      <th>Var21</th>\n",
       "      <th>Var22</th>\n",
       "      <th>Var24</th>\n",
       "      <th>Var25</th>\n",
       "      <th>Var28</th>\n",
       "      <th>Var35</th>\n",
       "      <th>Var38</th>\n",
       "      <th>...</th>\n",
       "      <th>Var220</th>\n",
       "      <th>Var221</th>\n",
       "      <th>Var222</th>\n",
       "      <th>Var223</th>\n",
       "      <th>Var225</th>\n",
       "      <th>Var226</th>\n",
       "      <th>Var227</th>\n",
       "      <th>Var228</th>\n",
       "      <th>Var229</th>\n",
       "      <th>churn</th>\n",
       "    </tr>\n",
       "  </thead>\n",
       "  <tbody>\n",
       "    <tr>\n",
       "      <th>0</th>\n",
       "      <td>3052.000000</td>\n",
       "      <td>6.792126</td>\n",
       "      <td>1244.979978</td>\n",
       "      <td>480.000000</td>\n",
       "      <td>600.000000</td>\n",
       "      <td>20.000000</td>\n",
       "      <td>480.000000</td>\n",
       "      <td>200.000000</td>\n",
       "      <td>0.000000</td>\n",
       "      <td>8.275200e+04</td>\n",
       "      <td>...</td>\n",
       "      <td>hLKtJ9p</td>\n",
       "      <td>Al6ZaUT</td>\n",
       "      <td>vr93T2a</td>\n",
       "      <td>LM8l689qOp</td>\n",
       "      <td>no_value</td>\n",
       "      <td>fKCe</td>\n",
       "      <td>02N6s8f</td>\n",
       "      <td>xwM2aC7IdeMC0</td>\n",
       "      <td>no_value</td>\n",
       "      <td>-1</td>\n",
       "    </tr>\n",
       "    <tr>\n",
       "      <th>1</th>\n",
       "      <td>1953.000000</td>\n",
       "      <td>7.000000</td>\n",
       "      <td>448.000000</td>\n",
       "      <td>176.000000</td>\n",
       "      <td>220.000000</td>\n",
       "      <td>0.000000</td>\n",
       "      <td>72.000000</td>\n",
       "      <td>311.760000</td>\n",
       "      <td>0.000000</td>\n",
       "      <td>4.698780e+06</td>\n",
       "      <td>...</td>\n",
       "      <td>4UxGlow</td>\n",
       "      <td>zCkv</td>\n",
       "      <td>catzS2D</td>\n",
       "      <td>LM8l689qOp</td>\n",
       "      <td>no_value</td>\n",
       "      <td>FSa2</td>\n",
       "      <td>ZI9m</td>\n",
       "      <td>ib5G6X1eUxUn6</td>\n",
       "      <td>mj86</td>\n",
       "      <td>-1</td>\n",
       "    </tr>\n",
       "    <tr>\n",
       "      <th>2</th>\n",
       "      <td>1533.000000</td>\n",
       "      <td>7.000000</td>\n",
       "      <td>4.000000</td>\n",
       "      <td>332.000000</td>\n",
       "      <td>415.000000</td>\n",
       "      <td>0.000000</td>\n",
       "      <td>144.000000</td>\n",
       "      <td>220.080000</td>\n",
       "      <td>5.000000</td>\n",
       "      <td>8.643840e+05</td>\n",
       "      <td>...</td>\n",
       "      <td>ylCK5YS</td>\n",
       "      <td>oslk</td>\n",
       "      <td>e4lqvY0</td>\n",
       "      <td>LM8l689qOp</td>\n",
       "      <td>no_value</td>\n",
       "      <td>xb3V</td>\n",
       "      <td>RAYp</td>\n",
       "      <td>F2FyR07IdsN7I</td>\n",
       "      <td>no_value</td>\n",
       "      <td>1</td>\n",
       "    </tr>\n",
       "    <tr>\n",
       "      <th>3</th>\n",
       "      <td>1319.915394</td>\n",
       "      <td>6.792126</td>\n",
       "      <td>1244.979978</td>\n",
       "      <td>233.876227</td>\n",
       "      <td>289.220209</td>\n",
       "      <td>4.508601</td>\n",
       "      <td>96.228101</td>\n",
       "      <td>224.303641</td>\n",
       "      <td>0.710038</td>\n",
       "      <td>2.574737e+06</td>\n",
       "      <td>...</td>\n",
       "      <td>ClzupgV</td>\n",
       "      <td>d0EEeJi</td>\n",
       "      <td>6Uh67Lk</td>\n",
       "      <td>LM8l689qOp</td>\n",
       "      <td>no_value</td>\n",
       "      <td>453m</td>\n",
       "      <td>02N6s8f</td>\n",
       "      <td>F2FyR07IdsN7I</td>\n",
       "      <td>no_value</td>\n",
       "      <td>-1</td>\n",
       "    </tr>\n",
       "    <tr>\n",
       "      <th>4</th>\n",
       "      <td>889.000000</td>\n",
       "      <td>0.000000</td>\n",
       "      <td>0.000000</td>\n",
       "      <td>200.000000</td>\n",
       "      <td>250.000000</td>\n",
       "      <td>2.000000</td>\n",
       "      <td>48.000000</td>\n",
       "      <td>320.400000</td>\n",
       "      <td>0.000000</td>\n",
       "      <td>6.830160e+06</td>\n",
       "      <td>...</td>\n",
       "      <td>0MQv48t</td>\n",
       "      <td>oslk</td>\n",
       "      <td>d0BOtEt</td>\n",
       "      <td>LM8l689qOp</td>\n",
       "      <td>no_value</td>\n",
       "      <td>3Cy4</td>\n",
       "      <td>RAYp</td>\n",
       "      <td>F2FyR07IdsN7I</td>\n",
       "      <td>no_value</td>\n",
       "      <td>-1</td>\n",
       "    </tr>\n",
       "  </tbody>\n",
       "</table>\n",
       "<p>5 rows × 78 columns</p>\n",
       "</div>"
      ],
      "text/plain": [
       "          Var6      Var7        Var13       Var21       Var22      Var24  \\\n",
       "0  3052.000000  6.792126  1244.979978  480.000000  600.000000  20.000000   \n",
       "1  1953.000000  7.000000   448.000000  176.000000  220.000000   0.000000   \n",
       "2  1533.000000  7.000000     4.000000  332.000000  415.000000   0.000000   \n",
       "3  1319.915394  6.792126  1244.979978  233.876227  289.220209   4.508601   \n",
       "4   889.000000  0.000000     0.000000  200.000000  250.000000   2.000000   \n",
       "\n",
       "        Var25       Var28     Var35         Var38  ...     Var220   Var221  \\\n",
       "0  480.000000  200.000000  0.000000  8.275200e+04  ...    hLKtJ9p  Al6ZaUT   \n",
       "1   72.000000  311.760000  0.000000  4.698780e+06  ...    4UxGlow     zCkv   \n",
       "2  144.000000  220.080000  5.000000  8.643840e+05  ...    ylCK5YS     oslk   \n",
       "3   96.228101  224.303641  0.710038  2.574737e+06  ...    ClzupgV  d0EEeJi   \n",
       "4   48.000000  320.400000  0.000000  6.830160e+06  ...    0MQv48t     oslk   \n",
       "\n",
       "    Var222      Var223    Var225  Var226   Var227         Var228    Var229  \\\n",
       "0  vr93T2a  LM8l689qOp  no_value    fKCe  02N6s8f  xwM2aC7IdeMC0  no_value   \n",
       "1  catzS2D  LM8l689qOp  no_value    FSa2     ZI9m  ib5G6X1eUxUn6      mj86   \n",
       "2  e4lqvY0  LM8l689qOp  no_value    xb3V     RAYp  F2FyR07IdsN7I  no_value   \n",
       "3  6Uh67Lk  LM8l689qOp  no_value    453m  02N6s8f  F2FyR07IdsN7I  no_value   \n",
       "4  d0BOtEt  LM8l689qOp  no_value    3Cy4     RAYp  F2FyR07IdsN7I  no_value   \n",
       "\n",
       "   churn  \n",
       "0     -1  \n",
       "1     -1  \n",
       "2      1  \n",
       "3     -1  \n",
       "4     -1  \n",
       "\n",
       "[5 rows x 78 columns]"
      ]
     },
     "execution_count": 3,
     "metadata": {},
     "output_type": "execute_result"
    }
   ],
   "source": [
    "# считываем ту часть данных, что оставили для работы в прошлый раз.\n",
    "df = pd.read_csv('short_data.csv')\n",
    "df.head()"
   ]
  },
  {
   "cell_type": "code",
   "execution_count": 4,
   "metadata": {},
   "outputs": [],
   "source": [
    "# Отделяем метки\n",
    "labels = df['churn']\n",
    "df = df.drop('churn', axis=1)\n",
    "labels = pd.Series(np.where(labels == -1, 0, 1))"
   ]
  },
  {
   "cell_type": "code",
   "execution_count": 5,
   "metadata": {},
   "outputs": [
    {
     "name": "stderr",
     "output_type": "stream",
     "text": [
      "C:\\Code\\Anaconda\\lib\\site-packages\\sklearn\\preprocessing\\data.py:625: DataConversionWarning: Data with input dtype int64, float64 were all converted to float64 by StandardScaler.\n",
      "  return self.partial_fit(X, y)\n",
      "C:\\Code\\Anaconda\\lib\\site-packages\\sklearn\\base.py:462: DataConversionWarning: Data with input dtype int64, float64 were all converted to float64 by StandardScaler.\n",
      "  return self.fit(X, **fit_params).transform(X)\n"
     ]
    }
   ],
   "source": [
    "# Отмасштабируем числовые признаки\n",
    "real = df.loc[:, :'Var189']\n",
    "real = pd.DataFrame(StandardScaler().fit_transform(real), columns=real.columns)"
   ]
  },
  {
   "cell_type": "code",
   "execution_count": 6,
   "metadata": {},
   "outputs": [],
   "source": [
    "# Добавим квадраты признаков\n",
    "real_sqr = real ** 2\n",
    "real_sqr.columns = real.columns+'_sqr'"
   ]
  },
  {
   "cell_type": "code",
   "execution_count": 7,
   "metadata": {},
   "outputs": [],
   "source": [
    "def cat_unique(cat):\n",
    "    plt.figure(figsize=(20, 5))\n",
    "    sns.barplot(x='index', y=0, data=cat.apply(lambda x: np.unique(x).shape[0], axis=0).reset_index())\n",
    "    plt.title('Количество уникальных категорий у категориальных признаков')\n",
    "    plt.ylabel('Количество')\n",
    "    plt.xlabel('Признак')\n",
    "    plt.xticks(rotation=90);"
   ]
  },
  {
   "cell_type": "code",
   "execution_count": 8,
   "metadata": {},
   "outputs": [
    {
     "data": {
      "image/png": "[encoded data removed]",
      "text/plain": [
       "<Figure size 1440x360 with 1 Axes>"
      ]
     },
     "metadata": {
      "needs_background": "light"
     },
     "output_type": "display_data"
    }
   ],
   "source": [
    "# Посмотрим на распределение категориальных\n",
    "cat = df.loc[:, 'Var192':]\n",
    "\n",
    "cat_unique(cat)"
   ]
  },
  {
   "cell_type": "markdown",
   "metadata": {},
   "source": [
    "Видим, что есть признаки с тысячами значений. В таком случае преобразованные данные будут занимать слишком много места.\n",
    "Оставим только часто повторяющиеся, остальные объединим."
   ]
  },
  {
   "cell_type": "code",
   "execution_count": 9,
   "metadata": {},
   "outputs": [],
   "source": [
    "def change_labels(column):\n",
    "    val = column.value_counts()\n",
    "    \n",
    "    new_val = (val >= 500) * range(1, len(val) + 1) if len(val) > 50 else (val >= 0) * range(1, len(val) + 1)\n",
    "    new_my_col = column.map(new_val)\n",
    "    return new_my_col\n",
    "\n",
    "new_cat = cat.apply(lambda x: change_labels(x), axis=0)"
   ]
  },
  {
   "cell_type": "code",
   "execution_count": 10,
   "metadata": {},
   "outputs": [
    {
     "data": {
      "image/png": "[encoded data removed]",
      "text/plain": [
       "<Figure size 1440x360 with 1 Axes>"
      ]
     },
     "metadata": {
      "needs_background": "light"
     },
     "output_type": "display_data"
    }
   ],
   "source": [
    "# Посмотрим на новое распределение категориальных \n",
    "plt.figure(figsize=(20, 5))\n",
    "sns.barplot(x='index', y=0, data=new_cat.apply(lambda x: np.unique(x).shape[0], axis=0).reset_index())\n",
    "plt.title('Количество уникальных категорий у категориальных признаков')\n",
    "plt.ylabel('Количество')\n",
    "plt.xlabel('Признак')\n",
    "plt.xticks(rotation=90);"
   ]
  },
  {
   "cell_type": "markdown",
   "metadata": {},
   "source": [
    "Так-то лучше. Будем надеяться, что мы не потеряли много информации. Применим Dummy кодирование"
   ]
  },
  {
   "cell_type": "code",
   "execution_count": 11,
   "metadata": {},
   "outputs": [],
   "source": [
    "dummy_data = pd.concat((real, \n",
    "                        real_sqr, \n",
    "                        pd.get_dummies(new_cat, columns=new_cat.columns ,drop_first=True)), axis=1)"
   ]
  },
  {
   "cell_type": "code",
   "execution_count": 12,
   "metadata": {},
   "outputs": [
    {
     "name": "stdout",
     "output_type": "stream",
     "text": [
      "<class 'pandas.core.frame.DataFrame'>\n",
      "RangeIndex: 36000 entries, 0 to 35999\n",
      "Columns: 379 entries, Var6 to Var229_5\n",
      "dtypes: float64(86), uint8(293)\n",
      "memory usage: 33.7 MB\n"
     ]
    }
   ],
   "source": [
    "dummy_data.info()"
   ]
  },
  {
   "cell_type": "markdown",
   "metadata": {},
   "source": [
    "Удалим малозначимые признаки, для этого используем ансамбль деревьев."
   ]
  },
  {
   "cell_type": "code",
   "execution_count": 13,
   "metadata": {},
   "outputs": [],
   "source": [
    "from sklearn.ensemble import ExtraTreesClassifier, GradientBoostingClassifier"
   ]
  },
  {
   "cell_type": "code",
   "execution_count": 14,
   "metadata": {},
   "outputs": [
    {
     "data": {
      "text/plain": [
       "ExtraTreesClassifier(bootstrap=False, class_weight=None, criterion='gini',\n",
       "           max_depth=None, max_features='auto', max_leaf_nodes=None,\n",
       "           min_impurity_decrease=0.0, min_impurity_split=None,\n",
       "           min_samples_leaf=1, min_samples_split=2,\n",
       "           min_weight_fraction_leaf=0.0, n_estimators=20, n_jobs=None,\n",
       "           oob_score=False, random_state=None, verbose=0, warm_start=False)"
      ]
     },
     "execution_count": 14,
     "metadata": {},
     "output_type": "execute_result"
    }
   ],
   "source": [
    "etc = ExtraTreesClassifier(n_estimators=20)\n",
    "etc.fit(dummy_data, labels)"
   ]
  },
  {
   "cell_type": "code",
   "execution_count": 15,
   "metadata": {},
   "outputs": [
    {
     "data": {
      "text/plain": [
       "[<matplotlib.lines.Line2D at 0x1fd824602e8>]"
      ]
     },
     "execution_count": 15,
     "metadata": {},
     "output_type": "execute_result"
    },
    {
     "data": {
      "image/png": "[encoded data removed]",
      "text/plain": [
       "<Figure size 432x288 with 1 Axes>"
      ]
     },
     "metadata": {
      "needs_background": "light"
     },
     "output_type": "display_data"
    }
   ],
   "source": [
    "plt.plot(etc.feature_importances_, '+')"
   ]
  },
  {
   "cell_type": "markdown",
   "metadata": {},
   "source": [
    "Большинство признаков имеют значимость около нуля. Удалим их, это позволит модели не обучаться на шумовых данных."
   ]
  },
  {
   "cell_type": "code",
   "execution_count": 16,
   "metadata": {},
   "outputs": [
    {
     "data": {
      "text/plain": [
       "ExtraTreesClassifier(bootstrap=False, class_weight=None, criterion='gini',\n",
       "           max_depth=None, max_features='auto', max_leaf_nodes=None,\n",
       "           min_impurity_decrease=0.0, min_impurity_split=None,\n",
       "           min_samples_leaf=1, min_samples_split=2,\n",
       "           min_weight_fraction_leaf=0.0, n_estimators=20, n_jobs=None,\n",
       "           oob_score=False, random_state=None, verbose=0, warm_start=False)"
      ]
     },
     "execution_count": 16,
     "metadata": {},
     "output_type": "execute_result"
    }
   ],
   "source": [
    "clear_data = dummy_data.drop(dummy_data.columns[etc.feature_importances_ < 0.001], axis=1)\n",
    "\n",
    "etc.fit(clear_data, labels)"
   ]
  },
  {
   "cell_type": "code",
   "execution_count": 17,
   "metadata": {},
   "outputs": [
    {
     "data": {
      "text/plain": [
       "<matplotlib.axes._subplots.AxesSubplot at 0x1fd8210dda0>"
      ]
     },
     "execution_count": 17,
     "metadata": {},
     "output_type": "execute_result"
    },
    {
     "data": {
      "image/png": "[encoded data removed]",
      "text/plain": [
       "<Figure size 1440x360 with 1 Axes>"
      ]
     },
     "metadata": {
      "needs_background": "light"
     },
     "output_type": "display_data"
    }
   ],
   "source": [
    "plt.figure(figsize=(20, 5))\n",
    "sns.barplot(x=clear_data.columns.values, y=etc.feature_importances_)"
   ]
  },
  {
   "cell_type": "markdown",
   "metadata": {},
   "source": [
    "Теперь вроде бы остались только более-менее значимые признаки, значит будем строить бейзлайн модели."
   ]
  },
  {
   "cell_type": "code",
   "execution_count": 18,
   "metadata": {},
   "outputs": [],
   "source": [
    "from sklearn.linear_model import RidgeClassifier\n",
    "from sklearn.naive_bayes import GaussianNB"
   ]
  },
  {
   "cell_type": "code",
   "execution_count": 19,
   "metadata": {},
   "outputs": [],
   "source": [
    "def cv_scoring(estimators, data=clear_data, cv=3):\n",
    "    scorers = ['roc_auc', 'f1', 'accuracy', 'recall']\n",
    "    cv_df = pd.DataFrame(columns=['estimator', 'roc_auc', 'f1', 'accuracy', 'recall'])\n",
    "    \n",
    "    for estimator in estimators:\n",
    "        scores = cross_validate(estimator, data, labels, scoring=['roc_auc', 'f1', 'accuracy', 'recall'], cv=cv)\n",
    "        voc = {'estimator': str(estimator).split('(')[0],\n",
    "               'roc_auc': scores['test_roc_auc'].mean(), \n",
    "               'f1': scores['test_f1'].mean(), \n",
    "               'accuracy': scores['test_accuracy'].mean(), \n",
    "               'recall': scores['test_recall'].mean()} # Делаем словарь, чтобы потом его добавить в датафрейм\n",
    "    \n",
    "        cv_df = cv_df.append(voc, ignore_index=True)\n",
    "        \n",
    "    return cv_df"
   ]
  },
  {
   "cell_type": "markdown",
   "metadata": {},
   "source": [
    "Обучим 3 модели: RidgeClassifier, GradientBoostingClassifier и наивного байеса."
   ]
  },
  {
   "cell_type": "code",
   "execution_count": 20,
   "metadata": {
    "scrolled": true
   },
   "outputs": [
    {
     "data": {
      "text/html": [
       "<div>\n",
       "<style scoped>\n",
       "    .dataframe tbody tr th:only-of-type {\n",
       "        vertical-align: middle;\n",
       "    }\n",
       "\n",
       "    .dataframe tbody tr th {\n",
       "        vertical-align: top;\n",
       "    }\n",
       "\n",
       "    .dataframe thead th {\n",
       "        text-align: right;\n",
       "    }\n",
       "</style>\n",
       "<table border=\"1\" class=\"dataframe\">\n",
       "  <thead>\n",
       "    <tr style=\"text-align: right;\">\n",
       "      <th></th>\n",
       "      <th>estimator</th>\n",
       "      <th>roc_auc</th>\n",
       "      <th>f1</th>\n",
       "      <th>accuracy</th>\n",
       "      <th>recall</th>\n",
       "    </tr>\n",
       "  </thead>\n",
       "  <tbody>\n",
       "    <tr>\n",
       "      <th>0</th>\n",
       "      <td>RidgeClassifier</td>\n",
       "      <td>0.699493</td>\n",
       "      <td>0.002963</td>\n",
       "      <td>0.925333</td>\n",
       "      <td>0.001491</td>\n",
       "    </tr>\n",
       "    <tr>\n",
       "      <th>1</th>\n",
       "      <td>GradientBoostingClassifier</td>\n",
       "      <td>0.729322</td>\n",
       "      <td>0.006650</td>\n",
       "      <td>0.925611</td>\n",
       "      <td>0.003356</td>\n",
       "    </tr>\n",
       "    <tr>\n",
       "      <th>2</th>\n",
       "      <td>GaussianNB</td>\n",
       "      <td>0.617158</td>\n",
       "      <td>0.150871</td>\n",
       "      <td>0.277472</td>\n",
       "      <td>0.859806</td>\n",
       "    </tr>\n",
       "  </tbody>\n",
       "</table>\n",
       "</div>"
      ],
      "text/plain": [
       "                    estimator   roc_auc        f1  accuracy    recall\n",
       "0             RidgeClassifier  0.699493  0.002963  0.925333  0.001491\n",
       "1  GradientBoostingClassifier  0.729322  0.006650  0.925611  0.003356\n",
       "2                  GaussianNB  0.617158  0.150871  0.277472  0.859806"
      ]
     },
     "execution_count": 20,
     "metadata": {},
     "output_type": "execute_result"
    }
   ],
   "source": [
    "estimators = [RidgeClassifier(), GradientBoostingClassifier(n_estimators=20), GaussianNB()]\n",
    "\n",
    "cv_df = cv_scoring(estimators)\n",
    "cv_df"
   ]
  },
  {
   "cell_type": "markdown",
   "metadata": {
    "collapsed": true
   },
   "source": [
    "Результат не впечатляет. В основном у всех моделей маленький Recall, кроме наивного байеса, у которого маленькая точность. Лучший результат, конечно, показал градиентный бустинг."
   ]
  }
 ],
 "metadata": {
  "kernelspec": {
   "display_name": "Python 3",
   "language": "python",
   "name": "python3"
  },
  "language_info": {
   "codemirror_mode": {
    "name": "ipython",
    "version": 3
   },
   "file_extension": ".py",
   "mimetype": "text/x-python",
   "name": "python",
   "nbconvert_exporter": "python",
   "pygments_lexer": "ipython3",
   "version": "3.7.0"
  }
 },
 "nbformat": 4,
 "nbformat_minor": 2
}
